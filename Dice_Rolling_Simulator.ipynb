{
 "cells": [
  {
   "cell_type": "code",
   "execution_count": 1,
   "metadata": {},
   "outputs": [
    {
     "name": "stdout",
     "output_type": "stream",
     "text": [
      "you have roll 3\n",
      "you have roll 3\n",
      "you have roll 5\n",
      "thanks for rolling the dice\n"
     ]
    }
   ],
   "source": [
    "import random\n",
    "while(True):\n",
    "    rolling_dice=input('do you want to roll the dice y/n')\n",
    "    dice= random.randint(1,6)\n",
    "    if(rolling_dice=='y'):\n",
    "       print (f'you have roll {dice}')\n",
    "    elif(rolling_dice=='n'):\n",
    "       break\n",
    "    else:\n",
    "       continue \n",
    "\n",
    "print ('thanks for rolling the dice')\n"
   ]
  }
 ],
 "metadata": {
  "kernelspec": {
   "display_name": "Python 3",
   "language": "python",
   "name": "python3"
  },
  "language_info": {
   "codemirror_mode": {
    "name": "ipython",
    "version": 3
   },
   "file_extension": ".py",
   "mimetype": "text/x-python",
   "name": "python",
   "nbconvert_exporter": "python",
   "pygments_lexer": "ipython3",
   "version": "3.10.1"
  }
 },
 "nbformat": 4,
 "nbformat_minor": 2
}
